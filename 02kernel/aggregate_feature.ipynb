{
 "cells": [
  {
   "cell_type": "markdown",
   "metadata": {
    "_cell_guid": "a83bf0d3-fac7-4204-be85-ce7d7a7e5318",
    "_uuid": "6c312474f35f552a05c0be7d86a3d2fd11d7026c"
   },
   "source": [
    "In this kernel we will take a look at engineering aggregated features. Specifically, we will engineer 3 aggregated features using `train_active.csv`, `test_active.csv`, `periods_test.csv` and `periods_test.csv`. Those features will be:\n",
    "- `avg_times_up_user` - how often the average item of the user has been put up for sale.\n",
    "- `avg_days_up_user` - the average number of days an item from the user has been put up for sale.\n",
    "- `n_user_items` - the number of items the user has put up for sale.\n",
    "\n",
    "Let's see if they help :)"
   ]
  },
  {
   "cell_type": "markdown",
   "metadata": {
    "_cell_guid": "daa83617-9966-4c15-ae6d-37f5c7e0c693",
    "_uuid": "fd6890865a5d2c9e1e94bc76a159d62a312a30af"
   },
   "source": [
    "# Engineering aggregated features"
   ]
  },
  {
   "cell_type": "code",
   "execution_count": 1,
   "metadata": {
    "_cell_guid": "033852ed-2dd3-4bc3-bec1-ac3481ab175f",
    "_kg_hide-input": true,
    "_uuid": "af7422df064b7f16934cca9e86e8213bc9c667e8",
    "collapsed": true
   },
   "outputs": [],
   "source": [
    "import pandas as pd\n",
    "import numpy as np\n",
    "import gc\n",
    "from tqdm import tqdm\n",
    "import matplotlib.pyplot as plt\n",
    "import seaborn as sns\n",
    "# from matplotlib_venn import venn2, venn2_circles\n",
    "import string\n",
    "from sklearn.model_selection import train_test_split\n",
    "from sklearn.metrics import mean_squared_error\n",
    "from sklearn.preprocessing import LabelEncoder\n",
    "from sklearn.feature_extraction.text import CountVectorizer, TfidfVectorizer\n",
    "import nltk\n",
    "from nltk.corpus import stopwords\n",
    "import scipy\n",
    "import lightgbm as lgb\n",
    "\n",
    "sns.set()\n",
    "%matplotlib inline"
   ]
  },
  {
   "cell_type": "markdown",
   "metadata": {
    "_cell_guid": "e5717975-f70f-48fe-b09d-1d1b088e2855",
    "_uuid": "9c5f66436f0108a7a19179c65a8153f072fd4618"
   },
   "source": [
    "Start with loading the data. To save some memory, we only load `item_id` and `user_id`, as that's all we need for the proposed features."
   ]
  },
  {
   "cell_type": "code",
   "execution_count": 9,
   "metadata": {
    "_cell_guid": "5f037998-0ef3-44a8-816c-d6fd79fb08dd",
    "_uuid": "3a30dfe38892ca287f1a1d6de4b0dfe0cde5c309",
    "collapsed": true
   },
   "outputs": [
    {
     "data": {
      "text/html": [
       "<div>\n",
       "<style scoped>\n",
       "    .dataframe tbody tr th:only-of-type {\n",
       "        vertical-align: middle;\n",
       "    }\n",
       "\n",
       "    .dataframe tbody tr th {\n",
       "        vertical-align: top;\n",
       "    }\n",
       "\n",
       "    .dataframe thead th {\n",
       "        text-align: right;\n",
       "    }\n",
       "</style>\n",
       "<table border=\"1\" class=\"dataframe\">\n",
       "  <thead>\n",
       "    <tr style=\"text-align: right;\">\n",
       "      <th></th>\n",
       "      <th>item_id</th>\n",
       "      <th>user_id</th>\n",
       "    </tr>\n",
       "  </thead>\n",
       "  <tbody>\n",
       "    <tr>\n",
       "      <th>0</th>\n",
       "      <td>b912c3c6a6ad</td>\n",
       "      <td>e00f8ff2eaf9</td>\n",
       "    </tr>\n",
       "    <tr>\n",
       "      <th>1</th>\n",
       "      <td>2dac0150717d</td>\n",
       "      <td>39aeb48f0017</td>\n",
       "    </tr>\n",
       "    <tr>\n",
       "      <th>2</th>\n",
       "      <td>ba83aefab5dc</td>\n",
       "      <td>91e2f88dd6e3</td>\n",
       "    </tr>\n",
       "    <tr>\n",
       "      <th>3</th>\n",
       "      <td>02996f1dd2ea</td>\n",
       "      <td>bf5cccea572d</td>\n",
       "    </tr>\n",
       "    <tr>\n",
       "      <th>4</th>\n",
       "      <td>7c90be56d2ab</td>\n",
       "      <td>ef50846afc0b</td>\n",
       "    </tr>\n",
       "  </tbody>\n",
       "</table>\n",
       "</div>"
      ],
      "text/plain": [
       "        item_id       user_id\n",
       "0  b912c3c6a6ad  e00f8ff2eaf9\n",
       "1  2dac0150717d  39aeb48f0017\n",
       "2  ba83aefab5dc  91e2f88dd6e3\n",
       "3  02996f1dd2ea  bf5cccea572d\n",
       "4  7c90be56d2ab  ef50846afc0b"
      ]
     },
     "execution_count": 9,
     "metadata": {},
     "output_type": "execute_result"
    }
   ],
   "source": [
    "used_cols = ['item_id', 'user_id']\n",
    "\n",
    "train = pd.read_csv('../train.csv', usecols=used_cols)\n",
    "train_active = pd.read_csv('../train_active.csv', usecols=used_cols)\n",
    "test = pd.read_csv('../test.csv', usecols=used_cols)\n",
    "test_active = pd.read_csv('../test_active.csv', usecols=used_cols)\n",
    "\n",
    "train_periods = pd.read_csv('../periods_train.csv', parse_dates=['date_from', 'date_to'])\n",
    "test_periods = pd.read_csv('../periods_test.csv', parse_dates=['date_from', 'date_to'])\n",
    "\n",
    "train.head()"
   ]
  },
  {
   "cell_type": "markdown",
   "metadata": {
    "_cell_guid": "b3320539-ff8f-4b9f-86db-5c9aec03e2cf",
    "_uuid": "f52e08c3356976134bf45e8f3b343e8aa14e1694"
   },
   "source": [
    "It's time for some visualizations. The following venn diagrams show the overlap of the user ID between the relevant dataframes. If this overlap is reasonably large, it might be a good idea to use the aggregated features."
   ]
  },
  {
   "cell_type": "code",
   "execution_count": 3,
   "metadata": {
    "_cell_guid": "9c6fe7ab-1a01-44aa-af5e-c0679159b94e",
    "_kg_hide-input": true,
    "_uuid": "71e3765fa171b50f3c515d1b8d5ad678aaff3913",
    "collapsed": true
   },
   "outputs": [],
   "source": [
    "# fig, axarr = plt.subplots(2, 2, figsize=(14, 7))\n",
    "\n",
    "# def get_venn(axarr, feature):\n",
    "#     axarr[0, 0].set_title(f'Overlap between {feature} in train and train_active')\n",
    "#     venn2([\n",
    "#         set(train[feature].values), \n",
    "#         set(train_active[feature].values)\n",
    "#     ], set_labels = ('train', 'train_active'), ax=axarr[0, 0])\n",
    "\n",
    "#     axarr[0, 1].set_title(f'Overlap between {feature} in test and test_active')\n",
    "#     venn2([\n",
    "#         set(test[feature].values), \n",
    "#         set(test_active[feature].values)\n",
    "#     ], set_labels = ('test', 'test_active'), ax=axarr[0, 1])\n",
    "\n",
    "#     axarr[1, 0].set_title(f'Overlap between {feature} in train and test')\n",
    "#     venn2([\n",
    "#         set(train[feature].values), \n",
    "#         set(test[feature].values)\n",
    "#     ], set_labels = ('train', 'test'), ax=axarr[1, 0])\n",
    "\n",
    "#     axarr[1, 1].set_title(f'Overlap between {feature} in train_active and test_active')\n",
    "#     venn2([\n",
    "#         set(train_active[feature].values), \n",
    "#         set(test_active[feature].values)\n",
    "#     ], set_labels = ('train_active', 'test_active'), ax=axarr[1, 1])\n",
    "    \n",
    "# get_venn(axarr, 'user_id')"
   ]
  },
  {
   "cell_type": "markdown",
   "metadata": {
    "_cell_guid": "5f20cf26-18e4-4c0e-aad5-9f2b8ba0be57",
    "_uuid": "b462d2fd16ed326e3aed3519ccbc1918a5a6e858"
   },
   "source": [
    "We're lucky! There is a huge overlap between the IDs of `train` / `train_active` and `test` / `test_active`. Out of curiosity, we'll also take a look at the overlap of item ID. This should (hopefully) not overlap at all."
   ]
  },
  {
   "cell_type": "code",
   "execution_count": 5,
   "metadata": {
    "_cell_guid": "7b470f63-1ed4-4dc5-9bf9-8c62b07c1565",
    "_kg_hide-input": true,
    "_uuid": "c7b9ab8df8929db55e292b3c86c3835365026dd6",
    "collapsed": true
   },
   "outputs": [],
   "source": [
    "# fig, axarr = plt.subplots(2, 2, figsize=(14, 7))\n",
    "\n",
    "# get_venn(axarr, 'item_id')"
   ]
  },
  {
   "cell_type": "markdown",
   "metadata": {
    "_cell_guid": "611c1af8-92cd-4860-96d6-d5a6df7cd794",
    "_uuid": "69977e8dad0525ea2530b37f1f124f3f1699838a"
   },
   "source": [
    "As suspected, there is no overlap between the dataframes. Except of `train_active` and `test_active`. These might be duplicated rows or items that have been put up for sale multiple times. We will have to filter these duplicated IDs for our engineered features.\n",
    "\n",
    "Anyway, we will now merge the data into one dataframe and, as mentioned, drop the duplicate item IDs. At this point we can also delete `train_active` and `test_active` to free up some memory."
   ]
  },
  {
   "cell_type": "code",
   "execution_count": 6,
   "metadata": {
    "_cell_guid": "919c8404-8aeb-4e47-9fed-4dc861bb9e5f",
    "_kg_hide-input": false,
    "_kg_hide-output": true,
    "_uuid": "f9fe381d5064e44be5847c81bd1b575f25d096dd",
    "collapsed": true
   },
   "outputs": [
    {
     "data": {
      "text/plain": [
       "146"
      ]
     },
     "execution_count": 6,
     "metadata": {},
     "output_type": "execute_result"
    }
   ],
   "source": [
    "all_samples = pd.concat([\n",
    "    train,\n",
    "    train_active,\n",
    "    test,\n",
    "    test_active\n",
    "]).reset_index(drop=True)\n",
    "all_samples.drop_duplicates(['item_id'], inplace=True)\n",
    "\n",
    "del train_active\n",
    "del test_active\n",
    "gc.collect()"
   ]
  },
  {
   "cell_type": "markdown",
   "metadata": {
    "_cell_guid": "e5b026eb-c1aa-44d1-a1d5-83e2cffb268b",
    "_uuid": "e104c5748b46833328f152747afcbb37fd4c9534"
   },
   "source": [
    "We will also concatenate the train and test period data to one dataframe for easier processing."
   ]
  },
  {
   "cell_type": "code",
   "execution_count": 10,
   "metadata": {
    "_cell_guid": "250ae468-8176-41e9-bfb5-802b5a6f1cf9",
    "_uuid": "b68957f7f487eb155da75aeb6e54eb7a47666b8b",
    "collapsed": true
   },
   "outputs": [
    {
     "data": {
      "text/html": [
       "<div>\n",
       "<style scoped>\n",
       "    .dataframe tbody tr th:only-of-type {\n",
       "        vertical-align: middle;\n",
       "    }\n",
       "\n",
       "    .dataframe tbody tr th {\n",
       "        vertical-align: top;\n",
       "    }\n",
       "\n",
       "    .dataframe thead th {\n",
       "        text-align: right;\n",
       "    }\n",
       "</style>\n",
       "<table border=\"1\" class=\"dataframe\">\n",
       "  <thead>\n",
       "    <tr style=\"text-align: right;\">\n",
       "      <th></th>\n",
       "      <th>item_id</th>\n",
       "      <th>activation_date</th>\n",
       "      <th>date_from</th>\n",
       "      <th>date_to</th>\n",
       "    </tr>\n",
       "  </thead>\n",
       "  <tbody>\n",
       "    <tr>\n",
       "      <th>0</th>\n",
       "      <td>8f5caef7afb0</td>\n",
       "      <td>2017-02-14</td>\n",
       "      <td>2017-03-15</td>\n",
       "      <td>2017-03-16</td>\n",
       "    </tr>\n",
       "    <tr>\n",
       "      <th>1</th>\n",
       "      <td>66218ff526d1</td>\n",
       "      <td>2017-02-16</td>\n",
       "      <td>2017-03-15</td>\n",
       "      <td>2017-03-18</td>\n",
       "    </tr>\n",
       "    <tr>\n",
       "      <th>2</th>\n",
       "      <td>b237d9539b21</td>\n",
       "      <td>2017-03-01</td>\n",
       "      <td>2017-03-15</td>\n",
       "      <td>2017-03-28</td>\n",
       "    </tr>\n",
       "    <tr>\n",
       "      <th>3</th>\n",
       "      <td>80bf58082ad3</td>\n",
       "      <td>2017-03-19</td>\n",
       "      <td>2017-03-19</td>\n",
       "      <td>2017-03-28</td>\n",
       "    </tr>\n",
       "    <tr>\n",
       "      <th>4</th>\n",
       "      <td>67a9944a7373</td>\n",
       "      <td>2017-03-14</td>\n",
       "      <td>2017-03-15</td>\n",
       "      <td>2017-03-28</td>\n",
       "    </tr>\n",
       "  </tbody>\n",
       "</table>\n",
       "</div>"
      ],
      "text/plain": [
       "        item_id activation_date  date_from    date_to\n",
       "0  8f5caef7afb0      2017-02-14 2017-03-15 2017-03-16\n",
       "1  66218ff526d1      2017-02-16 2017-03-15 2017-03-18\n",
       "2  b237d9539b21      2017-03-01 2017-03-15 2017-03-28\n",
       "3  80bf58082ad3      2017-03-19 2017-03-19 2017-03-28\n",
       "4  67a9944a7373      2017-03-14 2017-03-15 2017-03-28"
      ]
     },
     "execution_count": 10,
     "metadata": {},
     "output_type": "execute_result"
    }
   ],
   "source": [
    "all_periods = pd.concat([\n",
    "    train_periods,\n",
    "    test_periods\n",
    "])\n",
    "\n",
    "del train_periods\n",
    "del test_periods\n",
    "gc.collect()\n",
    "\n",
    "all_periods.head()"
   ]
  },
  {
   "cell_type": "markdown",
   "metadata": {
    "_cell_guid": "58606458-c901-44c1-af9b-ecfa4ddbc132",
    "_uuid": "ec346f51f4df2574560f0f1774dabb34f6b03f3f"
   },
   "source": [
    "Now the interesting part begins! For our feature `avg_days_up_user`, we first have to calculate the number of days every item has been put up. This can easily be done with pandas's `dt` API."
   ]
  },
  {
   "cell_type": "code",
   "execution_count": 11,
   "metadata": {
    "_cell_guid": "ee553d0c-0142-4f60-8d56-d0c0110501c5",
    "_uuid": "20d4b8eb2831660155e18f53aae6e07225d69d93",
    "collapsed": true
   },
   "outputs": [],
   "source": [
    "all_periods['days_up'] = all_periods['date_to'].dt.dayofyear - all_periods['date_from'].dt.dayofyear"
   ]
  },
  {
   "cell_type": "markdown",
   "metadata": {
    "_cell_guid": "53545672-fd45-4f3e-80f8-fd29efb12e06",
    "_uuid": "b209601a09d97d2da4db692781fb8d06d138d0b3"
   },
   "source": [
    "Because we want the sum of days one item has been put up for sale, we will group by `item_id` and sum the `days_up` column. We will also count the number of items in an item ID group for our second feature, `avg_times_up_user`."
   ]
  },
  {
   "cell_type": "code",
   "execution_count": 12,
   "metadata": {
    "_cell_guid": "0fc31fb0-f28f-4694-9efe-5dc0e204d95c",
    "_uuid": "948194fc5532f404ffb559a8acc57735756a5ad5",
    "collapsed": true
   },
   "outputs": [
    {
     "data": {
      "text/html": [
       "<div>\n",
       "<style scoped>\n",
       "    .dataframe tbody tr th:only-of-type {\n",
       "        vertical-align: middle;\n",
       "    }\n",
       "\n",
       "    .dataframe tbody tr th {\n",
       "        vertical-align: top;\n",
       "    }\n",
       "\n",
       "    .dataframe thead th {\n",
       "        text-align: right;\n",
       "    }\n",
       "</style>\n",
       "<table border=\"1\" class=\"dataframe\">\n",
       "  <thead>\n",
       "    <tr style=\"text-align: right;\">\n",
       "      <th></th>\n",
       "      <th>item_id</th>\n",
       "      <th>days_up_sum</th>\n",
       "      <th>times_put_up</th>\n",
       "    </tr>\n",
       "  </thead>\n",
       "  <tbody>\n",
       "    <tr>\n",
       "      <th>0</th>\n",
       "      <td>00000077ff21</td>\n",
       "      <td>13</td>\n",
       "      <td>1</td>\n",
       "    </tr>\n",
       "    <tr>\n",
       "      <th>1</th>\n",
       "      <td>000002c54018</td>\n",
       "      <td>6</td>\n",
       "      <td>1</td>\n",
       "    </tr>\n",
       "    <tr>\n",
       "      <th>2</th>\n",
       "      <td>000005570503</td>\n",
       "      <td>1</td>\n",
       "      <td>1</td>\n",
       "    </tr>\n",
       "    <tr>\n",
       "      <th>3</th>\n",
       "      <td>0000060018e6</td>\n",
       "      <td>6</td>\n",
       "      <td>1</td>\n",
       "    </tr>\n",
       "    <tr>\n",
       "      <th>4</th>\n",
       "      <td>000006497719</td>\n",
       "      <td>19</td>\n",
       "      <td>2</td>\n",
       "    </tr>\n",
       "  </tbody>\n",
       "</table>\n",
       "</div>"
      ],
      "text/plain": [
       "        item_id  days_up_sum  times_put_up\n",
       "0  00000077ff21           13             1\n",
       "1  000002c54018            6             1\n",
       "2  000005570503            1             1\n",
       "3  0000060018e6            6             1\n",
       "4  000006497719           19             2"
      ]
     },
     "execution_count": 12,
     "metadata": {},
     "output_type": "execute_result"
    }
   ],
   "source": [
    "gp = all_periods.groupby(['item_id'])[['days_up']]\n",
    "\n",
    "gp_df = pd.DataFrame()\n",
    "gp_df['days_up_sum'] = gp.sum()['days_up']\n",
    "gp_df['times_put_up'] = gp.count()['days_up']\n",
    "gp_df.reset_index(inplace=True)\n",
    "gp_df.rename(index=str, columns={'index': 'item_id'})\n",
    "\n",
    "gp_df.head()"
   ]
  },
  {
   "cell_type": "markdown",
   "metadata": {
    "_cell_guid": "3741ae4c-cb9c-4dd7-80d3-f09551ad759c",
    "_uuid": "99e1a732686f0ab6cfc8b42a99f7393ba2cd58a8"
   },
   "source": [
    "At this point, we have 2 scalars associated with every `item_id` appearing in train and test periods. We can now savely drop the duplicate item IDs in the `all_periods` dataframe and merge the features back into `all_periods`."
   ]
  },
  {
   "cell_type": "code",
   "execution_count": 13,
   "metadata": {
    "_cell_guid": "426f6a1a-a1cf-4eec-b368-4c76f47fa71b",
    "_uuid": "12d89f448d1956996b61b9ab5f17ac350947d611",
    "collapsed": true
   },
   "outputs": [
    {
     "data": {
      "text/html": [
       "<div>\n",
       "<style scoped>\n",
       "    .dataframe tbody tr th:only-of-type {\n",
       "        vertical-align: middle;\n",
       "    }\n",
       "\n",
       "    .dataframe tbody tr th {\n",
       "        vertical-align: top;\n",
       "    }\n",
       "\n",
       "    .dataframe thead th {\n",
       "        text-align: right;\n",
       "    }\n",
       "</style>\n",
       "<table border=\"1\" class=\"dataframe\">\n",
       "  <thead>\n",
       "    <tr style=\"text-align: right;\">\n",
       "      <th></th>\n",
       "      <th>item_id</th>\n",
       "      <th>activation_date</th>\n",
       "      <th>date_from</th>\n",
       "      <th>date_to</th>\n",
       "      <th>days_up</th>\n",
       "      <th>days_up_sum</th>\n",
       "      <th>times_put_up</th>\n",
       "    </tr>\n",
       "  </thead>\n",
       "  <tbody>\n",
       "    <tr>\n",
       "      <th>0</th>\n",
       "      <td>8f5caef7afb0</td>\n",
       "      <td>2017-02-14</td>\n",
       "      <td>2017-03-15</td>\n",
       "      <td>2017-03-16</td>\n",
       "      <td>1</td>\n",
       "      <td>17</td>\n",
       "      <td>4</td>\n",
       "    </tr>\n",
       "    <tr>\n",
       "      <th>1</th>\n",
       "      <td>66218ff526d1</td>\n",
       "      <td>2017-02-16</td>\n",
       "      <td>2017-03-15</td>\n",
       "      <td>2017-03-18</td>\n",
       "      <td>3</td>\n",
       "      <td>18</td>\n",
       "      <td>3</td>\n",
       "    </tr>\n",
       "    <tr>\n",
       "      <th>2</th>\n",
       "      <td>b237d9539b21</td>\n",
       "      <td>2017-03-01</td>\n",
       "      <td>2017-03-15</td>\n",
       "      <td>2017-03-28</td>\n",
       "      <td>13</td>\n",
       "      <td>19</td>\n",
       "      <td>2</td>\n",
       "    </tr>\n",
       "    <tr>\n",
       "      <th>3</th>\n",
       "      <td>80bf58082ad3</td>\n",
       "      <td>2017-03-19</td>\n",
       "      <td>2017-03-19</td>\n",
       "      <td>2017-03-28</td>\n",
       "      <td>9</td>\n",
       "      <td>17</td>\n",
       "      <td>4</td>\n",
       "    </tr>\n",
       "    <tr>\n",
       "      <th>4</th>\n",
       "      <td>67a9944a7373</td>\n",
       "      <td>2017-03-14</td>\n",
       "      <td>2017-03-15</td>\n",
       "      <td>2017-03-28</td>\n",
       "      <td>13</td>\n",
       "      <td>18</td>\n",
       "      <td>3</td>\n",
       "    </tr>\n",
       "  </tbody>\n",
       "</table>\n",
       "</div>"
      ],
      "text/plain": [
       "        item_id activation_date  date_from    date_to  days_up  days_up_sum  \\\n",
       "0  8f5caef7afb0      2017-02-14 2017-03-15 2017-03-16        1           17   \n",
       "1  66218ff526d1      2017-02-16 2017-03-15 2017-03-18        3           18   \n",
       "2  b237d9539b21      2017-03-01 2017-03-15 2017-03-28       13           19   \n",
       "3  80bf58082ad3      2017-03-19 2017-03-19 2017-03-28        9           17   \n",
       "4  67a9944a7373      2017-03-14 2017-03-15 2017-03-28       13           18   \n",
       "\n",
       "   times_put_up  \n",
       "0             4  \n",
       "1             3  \n",
       "2             2  \n",
       "3             4  \n",
       "4             3  "
      ]
     },
     "execution_count": 13,
     "metadata": {},
     "output_type": "execute_result"
    }
   ],
   "source": [
    "all_periods.drop_duplicates(['item_id'], inplace=True)\n",
    "all_periods = all_periods.merge(gp_df, on='item_id', how='left')\n",
    "all_periods.head()"
   ]
  },
  {
   "cell_type": "code",
   "execution_count": 14,
   "metadata": {
    "_cell_guid": "acf91783-7938-455a-8a31-e171a2aefaf4",
    "_kg_hide-input": true,
    "_kg_hide-output": true,
    "_uuid": "1334f7eb4b40527243fb92de0e4b9b3d7ff1b81f",
    "collapsed": true
   },
   "outputs": [
    {
     "data": {
      "text/plain": [
       "114"
      ]
     },
     "execution_count": 14,
     "metadata": {},
     "output_type": "execute_result"
    }
   ],
   "source": [
    "del gp\n",
    "del gp_df\n",
    "gc.collect()"
   ]
  },
  {
   "cell_type": "markdown",
   "metadata": {
    "_cell_guid": "f370ff7d-f014-4242-8804-1878b4ba0d3d",
    "_uuid": "de8507310745edefe60ffcb9cfcb330413f6b62c"
   },
   "source": [
    "We have an interesting but kind of useless feature now. As seen in the second venn diagram, there is no overlap at all between `train_active` (and with that `train_periods`) and `train` concerning *item* IDs. For the feature to become useful, we somehow have to associate an item ID with a user ID.\n",
    "\n",
    "So the next step is to merge `all_samples` into `all_periods`. This will get us a user ID for every item ID in the periods dataframes. Now there is an overlap!"
   ]
  },
  {
   "cell_type": "code",
   "execution_count": 15,
   "metadata": {
    "_cell_guid": "b49b8f80-bc74-4b18-b934-7e0a60b2cfa3",
    "_uuid": "c24f2167dcd8d85a740418a5c3e2d5d09926b659",
    "collapsed": true
   },
   "outputs": [
    {
     "data": {
      "text/html": [
       "<div>\n",
       "<style scoped>\n",
       "    .dataframe tbody tr th:only-of-type {\n",
       "        vertical-align: middle;\n",
       "    }\n",
       "\n",
       "    .dataframe tbody tr th {\n",
       "        vertical-align: top;\n",
       "    }\n",
       "\n",
       "    .dataframe thead th {\n",
       "        text-align: right;\n",
       "    }\n",
       "</style>\n",
       "<table border=\"1\" class=\"dataframe\">\n",
       "  <thead>\n",
       "    <tr style=\"text-align: right;\">\n",
       "      <th></th>\n",
       "      <th>item_id</th>\n",
       "      <th>activation_date</th>\n",
       "      <th>date_from</th>\n",
       "      <th>date_to</th>\n",
       "      <th>days_up</th>\n",
       "      <th>days_up_sum</th>\n",
       "      <th>times_put_up</th>\n",
       "      <th>user_id</th>\n",
       "    </tr>\n",
       "  </thead>\n",
       "  <tbody>\n",
       "    <tr>\n",
       "      <th>0</th>\n",
       "      <td>8f5caef7afb0</td>\n",
       "      <td>2017-02-14</td>\n",
       "      <td>2017-03-15</td>\n",
       "      <td>2017-03-16</td>\n",
       "      <td>1</td>\n",
       "      <td>17</td>\n",
       "      <td>4</td>\n",
       "      <td>e292cce69842</td>\n",
       "    </tr>\n",
       "    <tr>\n",
       "      <th>1</th>\n",
       "      <td>66218ff526d1</td>\n",
       "      <td>2017-02-16</td>\n",
       "      <td>2017-03-15</td>\n",
       "      <td>2017-03-18</td>\n",
       "      <td>3</td>\n",
       "      <td>18</td>\n",
       "      <td>3</td>\n",
       "      <td>a326c04a24ec</td>\n",
       "    </tr>\n",
       "    <tr>\n",
       "      <th>2</th>\n",
       "      <td>b237d9539b21</td>\n",
       "      <td>2017-03-01</td>\n",
       "      <td>2017-03-15</td>\n",
       "      <td>2017-03-28</td>\n",
       "      <td>13</td>\n",
       "      <td>19</td>\n",
       "      <td>2</td>\n",
       "      <td>06d275498a56</td>\n",
       "    </tr>\n",
       "    <tr>\n",
       "      <th>3</th>\n",
       "      <td>80bf58082ad3</td>\n",
       "      <td>2017-03-19</td>\n",
       "      <td>2017-03-19</td>\n",
       "      <td>2017-03-28</td>\n",
       "      <td>9</td>\n",
       "      <td>17</td>\n",
       "      <td>4</td>\n",
       "      <td>831c8c4a622c</td>\n",
       "    </tr>\n",
       "    <tr>\n",
       "      <th>4</th>\n",
       "      <td>67a9944a7373</td>\n",
       "      <td>2017-03-14</td>\n",
       "      <td>2017-03-15</td>\n",
       "      <td>2017-03-28</td>\n",
       "      <td>13</td>\n",
       "      <td>18</td>\n",
       "      <td>3</td>\n",
       "      <td>248102e50d79</td>\n",
       "    </tr>\n",
       "  </tbody>\n",
       "</table>\n",
       "</div>"
      ],
      "text/plain": [
       "        item_id activation_date  date_from    date_to  days_up  days_up_sum  \\\n",
       "0  8f5caef7afb0      2017-02-14 2017-03-15 2017-03-16        1           17   \n",
       "1  66218ff526d1      2017-02-16 2017-03-15 2017-03-18        3           18   \n",
       "2  b237d9539b21      2017-03-01 2017-03-15 2017-03-28       13           19   \n",
       "3  80bf58082ad3      2017-03-19 2017-03-19 2017-03-28        9           17   \n",
       "4  67a9944a7373      2017-03-14 2017-03-15 2017-03-28       13           18   \n",
       "\n",
       "   times_put_up       user_id  \n",
       "0             4  e292cce69842  \n",
       "1             3  a326c04a24ec  \n",
       "2             2  06d275498a56  \n",
       "3             4  831c8c4a622c  \n",
       "4             3  248102e50d79  "
      ]
     },
     "execution_count": 15,
     "metadata": {},
     "output_type": "execute_result"
    }
   ],
   "source": [
    "all_periods = all_periods.merge(all_samples, on='item_id', how='left')\n",
    "all_periods.head()"
   ]
  },
  {
   "cell_type": "markdown",
   "metadata": {
    "_cell_guid": "96c19581-1fa2-4e72-b5d5-30a2713dae4d",
    "_uuid": "a3feae7571a6e25b0369644de5371e38ae4e6241"
   },
   "source": [
    "The next problem is that there are multiple features for a user if that user has put up more than one item that appears in `train_active` / `test_active`. We will have to somehow reduce this to one feature.\n",
    "\n",
    "Here they are averaged, but you can try something else like median or modus too."
   ]
  },
  {
   "cell_type": "code",
   "execution_count": 16,
   "metadata": {
    "_cell_guid": "4abe1fbb-0e28-48c3-a849-f6860a1ee164",
    "_uuid": "afef398b80af41c478296dda561deb78d02c2bbb",
    "collapsed": true
   },
   "outputs": [
    {
     "data": {
      "text/html": [
       "<div>\n",
       "<style scoped>\n",
       "    .dataframe tbody tr th:only-of-type {\n",
       "        vertical-align: middle;\n",
       "    }\n",
       "\n",
       "    .dataframe tbody tr th {\n",
       "        vertical-align: top;\n",
       "    }\n",
       "\n",
       "    .dataframe thead th {\n",
       "        text-align: right;\n",
       "    }\n",
       "</style>\n",
       "<table border=\"1\" class=\"dataframe\">\n",
       "  <thead>\n",
       "    <tr style=\"text-align: right;\">\n",
       "      <th></th>\n",
       "      <th>user_id</th>\n",
       "      <th>avg_days_up_user</th>\n",
       "      <th>avg_times_up_user</th>\n",
       "    </tr>\n",
       "  </thead>\n",
       "  <tbody>\n",
       "    <tr>\n",
       "      <th>0</th>\n",
       "      <td>00000077ff21</td>\n",
       "      <td>12.5</td>\n",
       "      <td>2.00</td>\n",
       "    </tr>\n",
       "    <tr>\n",
       "      <th>1</th>\n",
       "      <td>000006497719</td>\n",
       "      <td>19.0</td>\n",
       "      <td>2.00</td>\n",
       "    </tr>\n",
       "    <tr>\n",
       "      <th>2</th>\n",
       "      <td>00000b4d72f6</td>\n",
       "      <td>3.0</td>\n",
       "      <td>1.00</td>\n",
       "    </tr>\n",
       "    <tr>\n",
       "      <th>3</th>\n",
       "      <td>00000d642d7e</td>\n",
       "      <td>13.0</td>\n",
       "      <td>1.00</td>\n",
       "    </tr>\n",
       "    <tr>\n",
       "      <th>4</th>\n",
       "      <td>0000126b80a4</td>\n",
       "      <td>12.0</td>\n",
       "      <td>1.75</td>\n",
       "    </tr>\n",
       "  </tbody>\n",
       "</table>\n",
       "</div>"
      ],
      "text/plain": [
       "        user_id  avg_days_up_user  avg_times_up_user\n",
       "0  00000077ff21              12.5               2.00\n",
       "1  000006497719              19.0               2.00\n",
       "2  00000b4d72f6               3.0               1.00\n",
       "3  00000d642d7e              13.0               1.00\n",
       "4  0000126b80a4              12.0               1.75"
      ]
     },
     "execution_count": 16,
     "metadata": {},
     "output_type": "execute_result"
    }
   ],
   "source": [
    "gp = all_periods.groupby(['user_id'])[['days_up_sum', 'times_put_up']].mean().reset_index() \\\n",
    "    .rename(index=str, columns={\n",
    "        'days_up_sum': 'avg_days_up_user',\n",
    "        'times_put_up': 'avg_times_up_user'\n",
    "    })\n",
    "gp.head()"
   ]
  },
  {
   "cell_type": "markdown",
   "metadata": {
    "_cell_guid": "589c1734-4c4d-4d83-8b07-8b6404cd45d3",
    "_uuid": "ee0e759eded9ba1e1cc4743f1ebd1cf26b08f960"
   },
   "source": [
    "For our last feature, `n_user_items`, we just group by user ID and count the number of items. We have to be careful to use `all_samples` instead of `all_periods` here because the latter does not contain the `train.csv` and `test.csv` samples."
   ]
  },
  {
   "cell_type": "code",
   "execution_count": 17,
   "metadata": {
    "_cell_guid": "772b3a50-0b74-4822-9a4c-b01bfe612afb",
    "_uuid": "5067101e74c7b1e98778457b9c6e4d3b39e579c2",
    "collapsed": true
   },
   "outputs": [
    {
     "data": {
      "text/html": [
       "<div>\n",
       "<style scoped>\n",
       "    .dataframe tbody tr th:only-of-type {\n",
       "        vertical-align: middle;\n",
       "    }\n",
       "\n",
       "    .dataframe tbody tr th {\n",
       "        vertical-align: top;\n",
       "    }\n",
       "\n",
       "    .dataframe thead th {\n",
       "        text-align: right;\n",
       "    }\n",
       "</style>\n",
       "<table border=\"1\" class=\"dataframe\">\n",
       "  <thead>\n",
       "    <tr style=\"text-align: right;\">\n",
       "      <th></th>\n",
       "      <th>user_id</th>\n",
       "      <th>avg_days_up_user</th>\n",
       "      <th>avg_times_up_user</th>\n",
       "      <th>n_user_items</th>\n",
       "    </tr>\n",
       "  </thead>\n",
       "  <tbody>\n",
       "    <tr>\n",
       "      <th>0</th>\n",
       "      <td>00000077ff21</td>\n",
       "      <td>12.5</td>\n",
       "      <td>2.00</td>\n",
       "      <td>2</td>\n",
       "    </tr>\n",
       "    <tr>\n",
       "      <th>1</th>\n",
       "      <td>000006497719</td>\n",
       "      <td>19.0</td>\n",
       "      <td>2.00</td>\n",
       "      <td>1</td>\n",
       "    </tr>\n",
       "    <tr>\n",
       "      <th>2</th>\n",
       "      <td>00000b4d72f6</td>\n",
       "      <td>3.0</td>\n",
       "      <td>1.00</td>\n",
       "      <td>1</td>\n",
       "    </tr>\n",
       "    <tr>\n",
       "      <th>3</th>\n",
       "      <td>00000d642d7e</td>\n",
       "      <td>13.0</td>\n",
       "      <td>1.00</td>\n",
       "      <td>2</td>\n",
       "    </tr>\n",
       "    <tr>\n",
       "      <th>4</th>\n",
       "      <td>0000126b80a4</td>\n",
       "      <td>12.0</td>\n",
       "      <td>1.75</td>\n",
       "      <td>8</td>\n",
       "    </tr>\n",
       "  </tbody>\n",
       "</table>\n",
       "</div>"
      ],
      "text/plain": [
       "        user_id  avg_days_up_user  avg_times_up_user  n_user_items\n",
       "0  00000077ff21              12.5               2.00             2\n",
       "1  000006497719              19.0               2.00             1\n",
       "2  00000b4d72f6               3.0               1.00             1\n",
       "3  00000d642d7e              13.0               1.00             2\n",
       "4  0000126b80a4              12.0               1.75             8"
      ]
     },
     "execution_count": 17,
     "metadata": {},
     "output_type": "execute_result"
    }
   ],
   "source": [
    "n_user_items = all_samples.groupby(['user_id'])[['item_id']].count().reset_index() \\\n",
    "    .rename(index=str, columns={\n",
    "        'item_id': 'n_user_items'\n",
    "    })\n",
    "gp = gp.merge(n_user_items, on='user_id', how='outer')\n",
    "\n",
    "gp.head()"
   ]
  },
  {
   "cell_type": "markdown",
   "metadata": {
    "_cell_guid": "1d3bed01-9f20-4f25-b850-e079dfc55d85",
    "_uuid": "946a126873114ed35fcdb4bb3955338d22d39e3b"
   },
   "source": [
    "I'll save the features to a CSV so you don't have to run the entire code yourself if you want to try them in your model."
   ]
  },
  {
   "cell_type": "code",
   "execution_count": 18,
   "metadata": {
    "_cell_guid": "4f36dc3c-d24e-4823-9bfe-accff883c869",
    "_uuid": "d4f16e0ebffc27b2eda29a97c64a5343c45ba2b0",
    "collapsed": true
   },
   "outputs": [],
   "source": [
    "gp.to_csv('aggregated_features.csv', index=False)"
   ]
  },
  {
   "cell_type": "code",
   "execution_count": 19,
   "metadata": {
    "_cell_guid": "fc0baa8f-82c3-49d3-9265-f6259cc4d976",
    "_kg_hide-output": true,
    "_uuid": "ca1af4070e69b5d143005d6d0cb44eb0d0e3ac42",
    "collapsed": true
   },
   "outputs": [
    {
     "data": {
      "text/plain": [
       "106"
      ]
     },
     "execution_count": 19,
     "metadata": {},
     "output_type": "execute_result"
    }
   ],
   "source": [
    "del all_samples\n",
    "del all_periods\n",
    "del train\n",
    "del test\n",
    "\n",
    "gc.collect()"
   ]
  },
  {
   "cell_type": "markdown",
   "metadata": {
    "_cell_guid": "94a03718-1718-4981-88ef-532efcb435ee",
    "_uuid": "5d8e0a1a86fe5fbfa5162d3180d0b1ebea94f97d"
   },
   "source": [
    "# Training a LightGBM model"
   ]
  },
  {
   "cell_type": "code",
   "execution_count": 21,
   "metadata": {
    "_cell_guid": "bc719fcf-f418-4db5-a4fa-ebfa27716521",
    "_uuid": "02aad0b977053435e089bd189ea45e4a88731e87",
    "collapsed": true
   },
   "outputs": [
    {
     "data": {
      "text/html": [
       "<div>\n",
       "<style scoped>\n",
       "    .dataframe tbody tr th:only-of-type {\n",
       "        vertical-align: middle;\n",
       "    }\n",
       "\n",
       "    .dataframe tbody tr th {\n",
       "        vertical-align: top;\n",
       "    }\n",
       "\n",
       "    .dataframe thead th {\n",
       "        text-align: right;\n",
       "    }\n",
       "</style>\n",
       "<table border=\"1\" class=\"dataframe\">\n",
       "  <thead>\n",
       "    <tr style=\"text-align: right;\">\n",
       "      <th></th>\n",
       "      <th>item_id</th>\n",
       "      <th>user_id</th>\n",
       "      <th>region</th>\n",
       "      <th>city</th>\n",
       "      <th>parent_category_name</th>\n",
       "      <th>category_name</th>\n",
       "      <th>param_1</th>\n",
       "      <th>param_2</th>\n",
       "      <th>param_3</th>\n",
       "      <th>title</th>\n",
       "      <th>...</th>\n",
       "      <th>price</th>\n",
       "      <th>item_seq_number</th>\n",
       "      <th>activation_date</th>\n",
       "      <th>user_type</th>\n",
       "      <th>image</th>\n",
       "      <th>image_top_1</th>\n",
       "      <th>deal_probability</th>\n",
       "      <th>avg_days_up_user</th>\n",
       "      <th>avg_times_up_user</th>\n",
       "      <th>n_user_items</th>\n",
       "    </tr>\n",
       "  </thead>\n",
       "  <tbody>\n",
       "    <tr>\n",
       "      <th>0</th>\n",
       "      <td>b912c3c6a6ad</td>\n",
       "      <td>e00f8ff2eaf9</td>\n",
       "      <td>Свердловская область</td>\n",
       "      <td>Екатеринбург</td>\n",
       "      <td>Личные вещи</td>\n",
       "      <td>Товары для детей и игрушки</td>\n",
       "      <td>Постельные принадлежности</td>\n",
       "      <td>NaN</td>\n",
       "      <td>NaN</td>\n",
       "      <td>Кокоби(кокон для сна)</td>\n",
       "      <td>...</td>\n",
       "      <td>400.0</td>\n",
       "      <td>2</td>\n",
       "      <td>2017-03-28</td>\n",
       "      <td>Private</td>\n",
       "      <td>d10c7e016e03247a3bf2d13348fe959fe6f436c1caf64c...</td>\n",
       "      <td>1008.0</td>\n",
       "      <td>0.12789</td>\n",
       "      <td>8.000000</td>\n",
       "      <td>2.000000</td>\n",
       "      <td>2</td>\n",
       "    </tr>\n",
       "    <tr>\n",
       "      <th>1</th>\n",
       "      <td>2dac0150717d</td>\n",
       "      <td>39aeb48f0017</td>\n",
       "      <td>Самарская область</td>\n",
       "      <td>Самара</td>\n",
       "      <td>Для дома и дачи</td>\n",
       "      <td>Мебель и интерьер</td>\n",
       "      <td>Другое</td>\n",
       "      <td>NaN</td>\n",
       "      <td>NaN</td>\n",
       "      <td>Стойка для Одежды</td>\n",
       "      <td>...</td>\n",
       "      <td>3000.0</td>\n",
       "      <td>19</td>\n",
       "      <td>2017-03-26</td>\n",
       "      <td>Private</td>\n",
       "      <td>79c9392cc51a9c81c6eb91eceb8e552171db39d7142700...</td>\n",
       "      <td>692.0</td>\n",
       "      <td>0.00000</td>\n",
       "      <td>NaN</td>\n",
       "      <td>NaN</td>\n",
       "      <td>1</td>\n",
       "    </tr>\n",
       "    <tr>\n",
       "      <th>2</th>\n",
       "      <td>ba83aefab5dc</td>\n",
       "      <td>91e2f88dd6e3</td>\n",
       "      <td>Ростовская область</td>\n",
       "      <td>Ростов-на-Дону</td>\n",
       "      <td>Бытовая электроника</td>\n",
       "      <td>Аудио и видео</td>\n",
       "      <td>Видео, DVD и Blu-ray плееры</td>\n",
       "      <td>NaN</td>\n",
       "      <td>NaN</td>\n",
       "      <td>Philips bluray</td>\n",
       "      <td>...</td>\n",
       "      <td>4000.0</td>\n",
       "      <td>9</td>\n",
       "      <td>2017-03-20</td>\n",
       "      <td>Private</td>\n",
       "      <td>b7f250ee3f39e1fedd77c141f273703f4a9be59db4b48a...</td>\n",
       "      <td>3032.0</td>\n",
       "      <td>0.43177</td>\n",
       "      <td>4.428571</td>\n",
       "      <td>1.142857</td>\n",
       "      <td>9</td>\n",
       "    </tr>\n",
       "    <tr>\n",
       "      <th>3</th>\n",
       "      <td>02996f1dd2ea</td>\n",
       "      <td>bf5cccea572d</td>\n",
       "      <td>Татарстан</td>\n",
       "      <td>Набережные Челны</td>\n",
       "      <td>Личные вещи</td>\n",
       "      <td>Товары для детей и игрушки</td>\n",
       "      <td>Автомобильные кресла</td>\n",
       "      <td>NaN</td>\n",
       "      <td>NaN</td>\n",
       "      <td>Автокресло</td>\n",
       "      <td>...</td>\n",
       "      <td>2200.0</td>\n",
       "      <td>286</td>\n",
       "      <td>2017-03-25</td>\n",
       "      <td>Company</td>\n",
       "      <td>e6ef97e0725637ea84e3d203e82dadb43ed3cc0a1c8413...</td>\n",
       "      <td>796.0</td>\n",
       "      <td>0.80323</td>\n",
       "      <td>16.714286</td>\n",
       "      <td>2.642857</td>\n",
       "      <td>32</td>\n",
       "    </tr>\n",
       "    <tr>\n",
       "      <th>4</th>\n",
       "      <td>7c90be56d2ab</td>\n",
       "      <td>ef50846afc0b</td>\n",
       "      <td>Волгоградская область</td>\n",
       "      <td>Волгоград</td>\n",
       "      <td>Транспорт</td>\n",
       "      <td>Автомобили</td>\n",
       "      <td>С пробегом</td>\n",
       "      <td>ВАЗ (LADA)</td>\n",
       "      <td>2110</td>\n",
       "      <td>ВАЗ 2110, 2003</td>\n",
       "      <td>...</td>\n",
       "      <td>40000.0</td>\n",
       "      <td>3</td>\n",
       "      <td>2017-03-16</td>\n",
       "      <td>Private</td>\n",
       "      <td>54a687a3a0fc1d68aed99bdaaf551c5c70b761b16fd0a2...</td>\n",
       "      <td>2264.0</td>\n",
       "      <td>0.20797</td>\n",
       "      <td>NaN</td>\n",
       "      <td>NaN</td>\n",
       "      <td>1</td>\n",
       "    </tr>\n",
       "  </tbody>\n",
       "</table>\n",
       "<p>5 rows × 21 columns</p>\n",
       "</div>"
      ],
      "text/plain": [
       "        item_id       user_id                 region              city  \\\n",
       "0  b912c3c6a6ad  e00f8ff2eaf9   Свердловская область      Екатеринбург   \n",
       "1  2dac0150717d  39aeb48f0017      Самарская область            Самара   \n",
       "2  ba83aefab5dc  91e2f88dd6e3     Ростовская область    Ростов-на-Дону   \n",
       "3  02996f1dd2ea  bf5cccea572d              Татарстан  Набережные Челны   \n",
       "4  7c90be56d2ab  ef50846afc0b  Волгоградская область         Волгоград   \n",
       "\n",
       "  parent_category_name               category_name  \\\n",
       "0          Личные вещи  Товары для детей и игрушки   \n",
       "1      Для дома и дачи           Мебель и интерьер   \n",
       "2  Бытовая электроника               Аудио и видео   \n",
       "3          Личные вещи  Товары для детей и игрушки   \n",
       "4            Транспорт                  Автомобили   \n",
       "\n",
       "                       param_1     param_2 param_3                  title  \\\n",
       "0    Постельные принадлежности         NaN     NaN  Кокоби(кокон для сна)   \n",
       "1                       Другое         NaN     NaN      Стойка для Одежды   \n",
       "2  Видео, DVD и Blu-ray плееры         NaN     NaN         Philips bluray   \n",
       "3         Автомобильные кресла         NaN     NaN             Автокресло   \n",
       "4                   С пробегом  ВАЗ (LADA)    2110         ВАЗ 2110, 2003   \n",
       "\n",
       "       ...         price  item_seq_number  activation_date user_type  \\\n",
       "0      ...         400.0                2       2017-03-28   Private   \n",
       "1      ...        3000.0               19       2017-03-26   Private   \n",
       "2      ...        4000.0                9       2017-03-20   Private   \n",
       "3      ...        2200.0              286       2017-03-25   Company   \n",
       "4      ...       40000.0                3       2017-03-16   Private   \n",
       "\n",
       "                                               image image_top_1  \\\n",
       "0  d10c7e016e03247a3bf2d13348fe959fe6f436c1caf64c...      1008.0   \n",
       "1  79c9392cc51a9c81c6eb91eceb8e552171db39d7142700...       692.0   \n",
       "2  b7f250ee3f39e1fedd77c141f273703f4a9be59db4b48a...      3032.0   \n",
       "3  e6ef97e0725637ea84e3d203e82dadb43ed3cc0a1c8413...       796.0   \n",
       "4  54a687a3a0fc1d68aed99bdaaf551c5c70b761b16fd0a2...      2264.0   \n",
       "\n",
       "   deal_probability  avg_days_up_user  avg_times_up_user  n_user_items  \n",
       "0           0.12789          8.000000           2.000000             2  \n",
       "1           0.00000               NaN                NaN             1  \n",
       "2           0.43177          4.428571           1.142857             9  \n",
       "3           0.80323         16.714286           2.642857            32  \n",
       "4           0.20797               NaN                NaN             1  \n",
       "\n",
       "[5 rows x 21 columns]"
      ]
     },
     "execution_count": 21,
     "metadata": {},
     "output_type": "execute_result"
    }
   ],
   "source": [
    "train = pd.read_csv('../train.csv')\n",
    "test = pd.read_csv('../test.csv')\n",
    "\n",
    "train = train.merge(gp, on='user_id', how='left')\n",
    "test = test.merge(gp, on='user_id', how='left')\n",
    "\n",
    "agg_cols = list(gp.columns)[1:]\n",
    "\n",
    "del gp\n",
    "gc.collect()\n",
    "\n",
    "train.head()"
   ]
  },
  {
   "cell_type": "markdown",
   "metadata": {
    "_cell_guid": "e624308f-c957-48e8-87f6-f9e78fc5b69f",
    "_uuid": "abbecd367f012736903c150e6fb989de3e135cca"
   },
   "source": [
    "One more thing about the approach that I haven't mentioned yet is that we will have quite some NaN values because not every ID in `train` and `test` occurs in `train_active` and `test_active`. Let's check how big that problem is."
   ]
  },
  {
   "cell_type": "code",
   "execution_count": 22,
   "metadata": {
    "_cell_guid": "d6a65f65-04a0-4d0d-81ec-4ed0551308bc",
    "_uuid": "65a2f2fe6ca76cc9f742affe57d4bd491f29c3bc",
    "collapsed": true
   },
   "outputs": [
    {
     "data": {
      "text/plain": [
       "22.407185198586692"
      ]
     },
     "execution_count": 22,
     "metadata": {},
     "output_type": "execute_result"
    }
   ],
   "source": [
    "train[agg_cols].isna().any(axis=1).sum() / len(train) * 100"
   ]
  },
  {
   "cell_type": "code",
   "execution_count": 23,
   "metadata": {
    "_cell_guid": "5e26f756-3f9e-4eb7-bcbe-5eaedc7d9f35",
    "_uuid": "e088f55ab84dbd80c5a466e551d9eeb44ca9e623",
    "collapsed": true
   },
   "outputs": [
    {
     "data": {
      "text/plain": [
       "24.354198545348694"
      ]
     },
     "execution_count": 23,
     "metadata": {},
     "output_type": "execute_result"
    }
   ],
   "source": [
    "test[agg_cols].isna().any(axis=1).sum() / len(test) * 100"
   ]
  },
  {
   "cell_type": "markdown",
   "metadata": {
    "_cell_guid": "06a9a6c2-a602-48c5-bcb5-d7ed40cc463d",
    "_uuid": "813b1e3a93f96e3bc7d9f2375e452f8b109112fa"
   },
   "source": [
    "We have missing features for 22.41% of train and 24.35% of test data. That's not perfect but certainly acceptable. Onto some more basic feature engineering with ideas from [a great kernel](https://www.kaggle.com/tunguz/bow-meta-text-and-dense-features-lb-0-2241?scriptVersionId=3603709)."
   ]
  },
  {
   "cell_type": "code",
   "execution_count": 24,
   "metadata": {
    "_cell_guid": "41e1111d-674e-4c86-b232-c0086832ee6d",
    "_uuid": "9c60409e1dc6c618f229e15c2b368660385c2ec1",
    "collapsed": true
   },
   "outputs": [],
   "source": [
    "count = lambda l1,l2: sum([1 for x in l1 if x in l2])\n",
    "\n",
    "\n",
    "for df in [train, test]:\n",
    "    df['description'].fillna('unknowndescription', inplace=True)\n",
    "    df['title'].fillna('unknowntitle', inplace=True)\n",
    "\n",
    "    df['weekday'] = pd.to_datetime(df['activation_date']).dt.day\n",
    "    \n",
    "    for col in ['description', 'title']:\n",
    "        df['num_words_' + col] = df[col].apply(lambda comment: len(comment.split()))\n",
    "        df['num_unique_words_' + col] = df[col].apply(lambda comment: len(set(w for w in comment.split())))\n",
    "\n",
    "    df['words_vs_unique_title'] = df['num_unique_words_title'] / df['num_words_title'] * 100\n",
    "    df['words_vs_unique_description'] = df['num_unique_words_description'] / df['num_words_description'] * 100\n",
    "    \n",
    "    df['city'] = df['region'] + '_' + df['city']\n",
    "    df['num_desc_punct'] = df['description'].apply(lambda x: count(x, set(string.punctuation)))\n",
    "    \n",
    "    for col in agg_cols:\n",
    "        df[col].fillna(-1, inplace=True)"
   ]
  },
  {
   "cell_type": "code",
   "execution_count": 25,
   "metadata": {
    "_cell_guid": "8d61ada6-8f3a-4b58-baad-199589122985",
    "_uuid": "cc558a03cbddc3954b01783636785cdee6cf954a",
    "collapsed": true
   },
   "outputs": [
    {
     "data": {
      "text/plain": [
       "((1503424, 16447), (1503424, 15000))"
      ]
     },
     "execution_count": 25,
     "metadata": {},
     "output_type": "execute_result"
    }
   ],
   "source": [
    "count_vectorizer_title = CountVectorizer(stop_words=stopwords.words('russian'), lowercase=True, min_df=25)\n",
    "\n",
    "title_counts = count_vectorizer_title.fit_transform(train['title'].append(test['title']))\n",
    "\n",
    "train_title_counts = title_counts[:len(train)]\n",
    "test_title_counts = title_counts[len(train):]\n",
    "\n",
    "\n",
    "count_vectorizer_desc = TfidfVectorizer(stop_words=stopwords.words('russian'), \n",
    "                                        lowercase=True, ngram_range=(1, 2),\n",
    "                                        max_features=15000)\n",
    "\n",
    "desc_counts = count_vectorizer_desc.fit_transform(train['description'].append(test['description']))\n",
    "\n",
    "train_desc_counts = desc_counts[:len(train)]\n",
    "test_desc_counts = desc_counts[len(train):]\n",
    "\n",
    "train_title_counts.shape, train_desc_counts.shape"
   ]
  },
  {
   "cell_type": "code",
   "execution_count": 26,
   "metadata": {
    "_cell_guid": "56338e56-c266-4342-a8f3-10621db49dee",
    "_uuid": "cc6f15f981f05ad9b1e89ab7acb54ea2350278c6",
    "collapsed": true
   },
   "outputs": [],
   "source": [
    "target = 'deal_probability'\n",
    "predictors = [\n",
    "    'num_desc_punct', \n",
    "    'words_vs_unique_description', 'num_unique_words_description', 'num_unique_words_title', 'num_words_description', 'num_words_title',\n",
    "    'avg_times_up_user', 'avg_days_up_user', 'n_user_items', \n",
    "    'price', 'item_seq_number'\n",
    "]\n",
    "categorical = [\n",
    "    'image_top_1', 'param_1', 'param_2', 'param_3', \n",
    "    'city', 'region', 'category_name', 'parent_category_name', 'user_type'\n",
    "]\n",
    "\n",
    "predictors = predictors + categorical"
   ]
  },
  {
   "cell_type": "code",
   "execution_count": 27,
   "metadata": {
    "_cell_guid": "7695c1a1-06cf-40e6-8792-77b62f48262a",
    "_uuid": "0bcde9bb9b9b26347c7db7da47123c6fec40860e",
    "collapsed": true
   },
   "outputs": [
    {
     "name": "stdout",
     "output_type": "stream",
     "text": [
      "Transforming image_top_1...\n",
      "Transforming param_1...\n",
      "Transforming param_2...\n",
      "Transforming param_3...\n",
      "Transforming city...\n",
      "Transforming region...\n",
      "Transforming category_name...\n",
      "Transforming parent_category_name...\n",
      "Transforming user_type...\n"
     ]
    }
   ],
   "source": [
    "for feature in categorical:\n",
    "    print(f'Transforming {feature}...')\n",
    "    encoder = LabelEncoder()\n",
    "    encoder.fit(train[feature].append(test[feature]).astype(str))\n",
    "    \n",
    "    train[feature] = encoder.transform(train[feature].astype(str))\n",
    "    test[feature] = encoder.transform(test[feature].astype(str))"
   ]
  },
  {
   "cell_type": "markdown",
   "metadata": {
    "_cell_guid": "edf2ac02-764e-42d3-bd00-8c1f79878d52",
    "_uuid": "312ce17bcca12df526c85cb9c85e7ac67c9246c7"
   },
   "source": [
    "After some hyperparameter definitions and creating train / valid / test matrices, we can finally train the model. Let's see if the aggregated features helped.\n",
    "\n",
    "*Note: For further feature engineering, I would recommend restricting the max_depth further (5 worked well for me) and increasing the learning rate (to ~ 0.1) so you don't have to wait forever for the training to finish.*"
   ]
  },
  {
   "cell_type": "code",
   "execution_count": 28,
   "metadata": {
    "_cell_guid": "7e94bcc4-ab56-4a38-bdcf-218791e95c2c",
    "_uuid": "ac57e30cf4452005a2cb20db424d7bcf1f11d1df",
    "collapsed": true
   },
   "outputs": [
    {
     "name": "stdout",
     "output_type": "stream",
     "text": [
      "Number of features: 31467\n"
     ]
    }
   ],
   "source": [
    "rounds = 20000\n",
    "early_stop_rounds = 500\n",
    "params = {\n",
    "    'objective' : 'regression',\n",
    "    'metric' : 'rmse',\n",
    "    'num_leaves' : 32,\n",
    "    'max_depth': 15,\n",
    "    'learning_rate' : 0.02,\n",
    "    'feature_fraction' : 0.6,\n",
    "    'verbosity' : -1\n",
    "}\n",
    "\n",
    "feature_names = np.hstack([\n",
    "    count_vectorizer_desc.get_feature_names(),\n",
    "    count_vectorizer_title.get_feature_names(),\n",
    "    predictors\n",
    "])\n",
    "print('Number of features:', len(feature_names))"
   ]
  },
  {
   "cell_type": "code",
   "execution_count": 33,
   "metadata": {
    "_cell_guid": "9e910115-312f-4437-8ba3-9fb6f7426af8",
    "_uuid": "1a50b3e34d76019fdbfd45c3566eec09556f24cb",
    "collapsed": true
   },
   "outputs": [],
   "source": [
    "train_index, valid_index = train_test_split(np.arange(len(train)), test_size=0.1, random_state=42)\n",
    "\n",
    "x_train = scipy.sparse.hstack([\n",
    "        train_desc_counts[train_index],\n",
    "        train_title_counts[train_index],\n",
    "        train.loc[train_index, predictors]\n",
    "], format='csr')\n",
    "y_train = train.loc[train_index, target]\n",
    "\n",
    "x_valid = scipy.sparse.hstack([\n",
    "    train_desc_counts[valid_index],\n",
    "    train_title_counts[valid_index],\n",
    "    train.loc[valid_index, predictors]\n",
    "], format='csr')\n",
    "y_valid = train.loc[valid_index, target]\n",
    "\n",
    "x_test = scipy.sparse.hstack([\n",
    "    test_desc_counts,\n",
    "    test_title_counts,\n",
    "    test.loc[:, predictors]\n",
    "], format='csr')\n",
    "\n",
    "dtrain = lgb.Dataset(x_train, label=y_train,\n",
    "                     feature_name=list(feature_names), \n",
    "                     categorical_feature=categorical)\n",
    "dvalid = lgb.Dataset(x_valid, label=y_valid,\n",
    "                     feature_name=list(feature_names), \n",
    "                     categorical_feature=categorical)"
   ]
  },
  {
   "cell_type": "code",
   "execution_count": 34,
   "metadata": {
    "_cell_guid": "cfc958c3-f045-49d4-8017-be7a60d7e18b",
    "_uuid": "40209bda4fe8e803d8e56e0c98ed4ec0375eac94",
    "collapsed": true
   },
   "outputs": [
    {
     "name": "stderr",
     "output_type": "stream",
     "text": [
      "/home/jk/anaconda3/lib/python3.6/site-packages/lightgbm/basic.py:1036: UserWarning: Using categorical_feature in Dataset.\n",
      "  warnings.warn('Using categorical_feature in Dataset.')\n",
      "/home/jk/anaconda3/lib/python3.6/site-packages/lightgbm/basic.py:681: UserWarning: categorical_feature in param dict is overridden.\n",
      "  warnings.warn('categorical_feature in param dict is overridden.')\n"
     ]
    },
    {
     "name": "stdout",
     "output_type": "stream",
     "text": [
      "Training until validation scores don't improve for 500 rounds.\n",
      "[500]\ttrain's rmse: 0.22019\tvalid's rmse: 0.223269\n",
      "[1000]\ttrain's rmse: 0.216896\tvalid's rmse: 0.221573\n",
      "[1500]\ttrain's rmse: 0.214919\tvalid's rmse: 0.220768\n",
      "[2000]\ttrain's rmse: 0.213429\tvalid's rmse: 0.220287\n",
      "[2500]\ttrain's rmse: 0.212228\tvalid's rmse: 0.219976\n",
      "[3000]\ttrain's rmse: 0.211154\tvalid's rmse: 0.219731\n",
      "[3500]\ttrain's rmse: 0.210187\tvalid's rmse: 0.219542\n",
      "[4000]\ttrain's rmse: 0.209266\tvalid's rmse: 0.219375\n",
      "[4500]\ttrain's rmse: 0.2084\tvalid's rmse: 0.219227\n",
      "[5000]\ttrain's rmse: 0.207612\tvalid's rmse: 0.219105\n",
      "[5500]\ttrain's rmse: 0.206868\tvalid's rmse: 0.219008\n",
      "[6000]\ttrain's rmse: 0.206162\tvalid's rmse: 0.218923\n",
      "[6500]\ttrain's rmse: 0.205462\tvalid's rmse: 0.218841\n",
      "[7000]\ttrain's rmse: 0.204787\tvalid's rmse: 0.218769\n",
      "[7500]\ttrain's rmse: 0.204117\tvalid's rmse: 0.218702\n",
      "[8000]\ttrain's rmse: 0.203498\tvalid's rmse: 0.218639\n",
      "[8500]\ttrain's rmse: 0.20288\tvalid's rmse: 0.218595\n",
      "[9000]\ttrain's rmse: 0.202269\tvalid's rmse: 0.218551\n",
      "[9500]\ttrain's rmse: 0.201691\tvalid's rmse: 0.218514\n",
      "[10000]\ttrain's rmse: 0.201129\tvalid's rmse: 0.218474\n",
      "[10500]\ttrain's rmse: 0.20055\tvalid's rmse: 0.218433\n",
      "[11000]\ttrain's rmse: 0.199974\tvalid's rmse: 0.218397\n",
      "[11500]\ttrain's rmse: 0.199401\tvalid's rmse: 0.218359\n",
      "[12000]\ttrain's rmse: 0.19888\tvalid's rmse: 0.218334\n",
      "[12500]\ttrain's rmse: 0.19835\tvalid's rmse: 0.218309\n",
      "[13000]\ttrain's rmse: 0.19784\tvalid's rmse: 0.218293\n",
      "[13500]\ttrain's rmse: 0.197315\tvalid's rmse: 0.21827\n",
      "[14000]\ttrain's rmse: 0.196804\tvalid's rmse: 0.218244\n",
      "[14500]\ttrain's rmse: 0.196306\tvalid's rmse: 0.218221\n",
      "[15000]\ttrain's rmse: 0.19581\tvalid's rmse: 0.21819\n",
      "[15500]\ttrain's rmse: 0.195313\tvalid's rmse: 0.218184\n",
      "[16000]\ttrain's rmse: 0.194872\tvalid's rmse: 0.218173\n",
      "Did not meet early stopping. Best iteration is:\n",
      "[16000]\ttrain's rmse: 0.194872\tvalid's rmse: 0.218173\n"
     ]
    }
   ],
   "source": [
    "evals_result = {}\n",
    "model = lgb.train(params, dtrain, \n",
    "                  valid_sets=[dtrain, dvalid], \n",
    "                  valid_names=['train', 'valid'],\n",
    "                  num_boost_round=rounds, \n",
    "                  early_stopping_rounds=early_stop_rounds, \n",
    "                  verbose_eval=500)"
   ]
  },
  {
   "cell_type": "code",
   "execution_count": 35,
   "metadata": {
    "_cell_guid": "5827b4fb-0bfc-4ef2-ab43-5be682151de8",
    "_uuid": "37cbdd3d10742d44e169a2db4386f7bb3c7b09bc",
    "collapsed": true
   },
   "outputs": [
    {
     "data": {
      "text/plain": [
       "Text(0.5,1,'Light GBM Feature Importance')"
      ]
     },
     "execution_count": 35,
     "metadata": {},
     "output_type": "execute_result"
    },
    {
     "data": {
      "image/png": "[encoded data removed]",
      "text/plain": [
       "<matplotlib.figure.Figure at 0x7f089f8a68d0>"
      ]
     },
     "metadata": {},
     "output_type": "display_data"
    }
   ],
   "source": [
    "fig, ax = plt.subplots(figsize=(10, 14))\n",
    "lgb.plot_importance(model, max_num_features=50, ax=ax)\n",
    "plt.title(\"Light GBM Feature Importance\")"
   ]
  },
  {
   "cell_type": "code",
   "execution_count": 36,
   "metadata": {
    "_cell_guid": "9d49a8cc-4b52-47f4-868a-f7b3006cd9f3",
    "_uuid": "3c93c6232801704e05d2a94c38b7df77d7ed14f4",
    "collapsed": true
   },
   "outputs": [
    {
     "name": "stdout",
     "output_type": "stream",
     "text": [
      "Warning: Your Kaggle API key is readable by other users on this system! To fix this, you can run 'chmod 600 /home/jk/.kaggle/kaggle.json'\n",
      "Warning: Looks like you're using an outdated API Version, please consider updating (server 1.3.9.1 / client 1.3.8)\n",
      "Successfully submitted to Avito Demand Prediction Challenge"
     ]
    }
   ],
   "source": [
    "subm = pd.read_csv('../sample_submission.csv')\n",
    "subm['deal_probability'] = np.clip(model.predict(x_test), 0, 1)\n",
    "subm.to_csv('aggregate.csv', index=False)\n",
    "\n",
    "! kaggle competitions submit -c avito-demand-prediction -f aggregate.csv -m \"Message\""
   ]
  },
  {
   "cell_type": "code",
   "execution_count": null,
   "metadata": {},
   "outputs": [],
   "source": []
  },
  {
   "cell_type": "code",
   "execution_count": null,
   "metadata": {},
   "outputs": [],
   "source": []
  },
  {
   "cell_type": "markdown",
   "metadata": {
    "_cell_guid": "e41f2802-c21c-471b-a7b3-f190aec1a7f2",
    "_uuid": "478c61d627e87de36aa762a69b1c10ff6c718788"
   },
   "source": [
    "I'll end this kernel with some ideas to improve it:\n",
    "- Use K-Fold cross validation.\n",
    "- Try other methods than mean for reducing the aggregated features to one per user (e. g. modus or median).\n",
    "- Try other gradient boosting libraries like CatBoost or XGBoost.\n",
    "- Add a temporal dimension to engineered features (e. g. # of items a user put up for sale *per day*).\n",
    "- Add more advanced text features like pretrained word embeddings.\n",
    "- Add image features. At the moment we completely ignore images! (as discussed [here](https://www.kaggle.com/c/avito-demand-prediction/discussion/56678), two promising approaches could be [NIMA: Neural Image Assessment](https://arxiv.org/abs/1709.05424) and [Multimedia Features for Click Prediction](https://storage.googleapis.com/kaggle-forum-message-attachments/328059/9411/dimitri-clickadvert.pdf)).\n",
    "- Normalize text before creating the Tf-Idf matrix (e. g. using [stemming](http://www.nltk.org/howto/stem.html)).\n",
    "- ~~Learn russian and do in-depth text analysis.~~\n",
    "\n",
    "Thanks for reading and have fun in this competition!"
   ]
  },
  {
   "cell_type": "code",
   "execution_count": null,
   "metadata": {},
   "outputs": [],
   "source": []
  }
 ],
 "metadata": {
  "kernelspec": {
   "display_name": "Python 3",
   "language": "python",
   "name": "python3"
  },
  "language_info": {
   "codemirror_mode": {
    "name": "ipython",
    "version": 3
   },
   "file_extension": ".py",
   "mimetype": "text/x-python",
   "name": "python",
   "nbconvert_exporter": "python",
   "pygments_lexer": "ipython3",
   "version": "3.6.4"
  }
 },
 "nbformat": 4,
 "nbformat_minor": 2
}

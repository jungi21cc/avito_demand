{
 "cells": [
  {
   "cell_type": "code",
   "execution_count": 57,
   "metadata": {},
   "outputs": [],
   "source": [
    "# Light GBM for Avito Demand Prediction Challenge\n",
    "# Uses Bag-of-Words, meta-text features, and dense features.\n",
    "# NO COMPUTER VISION COMPONENT.\n",
    "\n",
    "# https://www.kaggle.com/c/avito-demand-prediction\n",
    "# By Nick Brooks, April 2018\n",
    "\n",
    "import time\n",
    "notebookstart= time.time()\n",
    "\n",
    "import numpy as np # linear algebra\n",
    "import pandas as pd # data processing, CSV file I/O (e.g. pd.read_csv)\n",
    "import os\n",
    "import gc\n",
    "# print(\"Data:\\n\",os.listdir(\"../input\"))\n",
    "\n",
    "# Models Packages\n",
    "from sklearn import metrics\n",
    "from sklearn.metrics import mean_squared_error\n",
    "from sklearn import feature_selection\n",
    "from sklearn.model_selection import train_test_split\n",
    "from sklearn import preprocessing\n",
    "\n",
    "# Gradient Boosting\n",
    "import lightgbm as lgb\n",
    "\n",
    "# Tf-Idf\n",
    "from sklearn.feature_extraction.text import CountVectorizer, TfidfVectorizer\n",
    "from sklearn.pipeline import FeatureUnion\n",
    "from scipy.sparse import hstack, csr_matrix\n",
    "from nltk.corpus import stopwords \n",
    "\n",
    "# Viz\n",
    "import seaborn as sns\n",
    "import matplotlib.pyplot as plt"
   ]
  },
  {
   "cell_type": "code",
   "execution_count": 58,
   "metadata": {},
   "outputs": [
    {
     "name": "stdout",
     "output_type": "stream",
     "text": [
      "\n",
      "Data Load Stage\n",
      "Train shape: 1503424 Rows, 16 Columns\n",
      "Test shape: 508438 Rows, 16 Columns\n"
     ]
    }
   ],
   "source": [
    "print(\"\\nData Load Stage\")\n",
    "training = pd.read_csv('../train.csv', index_col = \"item_id\", parse_dates = [\"activation_date\"])\n",
    "traindex = training.index\n",
    "testing = pd.read_csv('../test.csv', index_col = \"item_id\", parse_dates = [\"activation_date\"])\n",
    "testdex = testing.index\n",
    "y = training.deal_probability.copy()\n",
    "training.drop(\"deal_probability\",axis=1, inplace=True)\n",
    "print('Train shape: {} Rows, {} Columns'.format(*training.shape))\n",
    "print('Test shape: {} Rows, {} Columns'.format(*testing.shape))"
   ]
  },
  {
   "cell_type": "code",
   "execution_count": 59,
   "metadata": {},
   "outputs": [
    {
     "name": "stdout",
     "output_type": "stream",
     "text": [
      "Combine Train and Test\n",
      "\n",
      "All Data shape: 2011862 Rows, 16 Columns\n"
     ]
    }
   ],
   "source": [
    "print(\"Combine Train and Test\")\n",
    "df = pd.concat([training,testing],axis=0)\n",
    "del training, testing\n",
    "gc.collect()\n",
    "print('\\nAll Data shape: {} Rows, {} Columns'.format(*df.shape))"
   ]
  },
  {
   "cell_type": "code",
   "execution_count": null,
   "metadata": {},
   "outputs": [
    {
     "name": "stdout",
     "output_type": "stream",
     "text": [
      "Feature Engineering\n",
      "\n",
      "Create Time Variables\n"
     ]
    }
   ],
   "source": [
    "print(\"Feature Engineering\")\n",
    "df[\"price\"] = np.log(df[\"price\"]+0.001)\n",
    "df[\"price\"].fillna(-999,inplace=True)\n",
    "df[\"image_top_1\"].fillna(-999,inplace=True)\n",
    "\n",
    "print(\"\\nCreate Time Variables\")\n",
    "df[\"Weekday\"] = df['activation_date'].dt.weekday\n",
    "df[\"Weekd of Year\"] = df['activation_date'].dt.week\n",
    "df[\"Day of Month\"] = df['activation_date'].dt.day\n",
    "\n",
    "# Create Validation Index and Remove Dead Variables\n",
    "training_index = df.loc[df.activation_date<=pd.to_datetime('2017-04-07')].index\n",
    "validation_index = df.loc[df.activation_date>=pd.to_datetime('2017-04-08')].index\n",
    "df.drop([\"activation_date\",\"image\"],axis=1,inplace=True)"
   ]
  },
  {
   "cell_type": "code",
   "execution_count": null,
   "metadata": {},
   "outputs": [
    {
     "name": "stdout",
     "output_type": "stream",
     "text": [
      "\n",
      "Encode Variables\n",
      "Encoding : ['user_id', 'region', 'city', 'parent_category_name', 'category_name', 'user_type', 'image_top_1']\n",
      "\n",
      "Text Features\n"
     ]
    }
   ],
   "source": [
    "print(\"\\nEncode Variables\")\n",
    "categorical = [\"user_id\",\"region\",\"city\",\"parent_category_name\",\"category_name\",\"user_type\",\"image_top_1\"]\n",
    "print(\"Encoding :\",categorical)\n",
    "\n",
    "# Encoder:\n",
    "lbl = preprocessing.LabelEncoder()\n",
    "for col in categorical:\n",
    "    df[col] = lbl.fit_transform(df[col].astype(str))\n",
    "    \n",
    "print(\"\\nText Features\")\n",
    "\n",
    "# Feature Engineering \n",
    "df['text_feat'] = df.apply(lambda row: ' '.join([\n",
    "    str(row['param_1']), \n",
    "    str(row['param_2']), \n",
    "    str(row['param_3'])]),axis=1) # Group Param Features\n",
    "df.drop([\"param_1\",\"param_2\",\"param_3\"],axis=1,inplace=True)\n",
    "\n",
    "# Meta Text Features\n",
    "textfeats = [\"description\",\"text_feat\", \"title\"]\n",
    "for cols in textfeats:\n",
    "    df[cols] = df[cols].astype(str) \n",
    "    df[cols] = df[cols].astype(str).fillna('nicapotato') # FILL NA\n",
    "    df[cols] = df[cols].str.lower() # Lowercase all text, so that capitalized words dont get treated differently\n",
    "    df[cols + '_num_chars'] = df[cols].apply(len) # Count number of Characters\n",
    "    df[cols + '_num_words'] = df[cols].apply(lambda comment: len(comment.split())) # Count number of Words\n",
    "    df[cols + '_num_unique_words'] = df[cols].apply(lambda comment: len(set(w for w in comment.split())))\n",
    "    df[cols + '_words_vs_unique'] = df[cols+'_num_unique_words'] / df[cols+'_num_words'] * 100 # Count Unique Words"
   ]
  },
  {
   "cell_type": "code",
   "execution_count": null,
   "metadata": {},
   "outputs": [],
   "source": [
    "print(\"\\n[TF-IDF] Term Frequency Inverse Document Frequency Stage\")\n",
    "russian_stop = set(stopwords.words('russian'))\n",
    "\n",
    "tfidf_para = {\n",
    "    \"stop_words\": russian_stop,\n",
    "    \"analyzer\": 'word',\n",
    "    \"token_pattern\": r'\\w{1,}',\n",
    "    \"sublinear_tf\": True,\n",
    "    \"dtype\": np.float32,\n",
    "    \"norm\": 'l2',\n",
    "    #\"min_df\":5,\n",
    "    #\"max_df\":.9,\n",
    "    \"smooth_idf\":False\n",
    "}\n",
    "def get_col(col_name): return lambda x: x[col_name]\n",
    "vectorizer = FeatureUnion([\n",
    "        ('description',TfidfVectorizer(\n",
    "            ngram_range=(1, 2),\n",
    "            max_features=16000,\n",
    "            **tfidf_para,\n",
    "            preprocessor=get_col('description'))),\n",
    "        ('text_feat',CountVectorizer(\n",
    "            ngram_range=(1, 2),\n",
    "            #max_features=7000,\n",
    "            preprocessor=get_col('text_feat'))),\n",
    "        ('title',TfidfVectorizer(\n",
    "            ngram_range=(1, 2),\n",
    "            **tfidf_para,\n",
    "            #max_features=7000,\n",
    "            preprocessor=get_col('title')))\n",
    "    ])"
   ]
  },
  {
   "cell_type": "code",
   "execution_count": null,
   "metadata": {},
   "outputs": [],
   "source": [
    "start_vect=time.time()\n",
    "vectorizer.fit(df.loc[traindex,:].to_dict('records'))\n",
    "ready_df = vectorizer.transform(df.to_dict('records'))\n",
    "tfvocab = vectorizer.get_feature_names()\n",
    "print(\"Vectorization Runtime: %0.2f Minutes\"%((time.time() - start_vect)/60))\n",
    "\n",
    "# Drop Text Cols\n",
    "df.drop(textfeats, axis=1,inplace=True)"
   ]
  },
  {
   "cell_type": "code",
   "execution_count": null,
   "metadata": {},
   "outputs": [],
   "source": [
    "# # Dense Features Correlation Matrix\n",
    "# f, ax = plt.subplots(figsize=[10,7])\n",
    "# sns.heatmap(pd.concat([df.loc[traindex,[x for x in df.columns if x not in categorical]], y], axis=1).corr(),\n",
    "#             annot=False, fmt=\".2f\",cbar_kws={'label': 'Correlation Coefficient'},cmap=\"plasma\",ax=ax, linewidths=.5)\n",
    "# ax.set_title(\"Dense Features Correlation Matrix\")\n",
    "# plt.savefig('correlation_matrix.png')"
   ]
  },
  {
   "cell_type": "code",
   "execution_count": null,
   "metadata": {},
   "outputs": [],
   "source": [
    "print(\"Modeling Stage\")\n",
    "# Combine Dense Features with Sparse Text Bag of Words Features\n",
    "X = hstack([csr_matrix(df.loc[traindex,:].values),ready_df[0:traindex.shape[0]]]) # Sparse Matrix\n",
    "testing = hstack([csr_matrix(df.loc[testdex,:].values),ready_df[traindex.shape[0]:]])\n",
    "tfvocab = df.columns.tolist() + tfvocab\n",
    "for shape in [X,testing]:\n",
    "    print(\"{} Rows and {} Cols\".format(*shape.shape))\n",
    "print(\"Feature Names Length: \",len(tfvocab))\n",
    "del df\n",
    "gc.collect();\n",
    "\n",
    "print(\"\\nModeling Stage\")\n",
    "\n",
    "# Training and Validation Set\n",
    "\"\"\"\n",
    "Using Randomized train/valid split doesn't seem to generalize LB score, so I will try time cutoff\n",
    "\"\"\"\n",
    "X_train, X_valid, y_train, y_valid = train_test_split(\n",
    "    X, y, test_size=0.20, random_state=1)"
   ]
  },
  {
   "cell_type": "code",
   "execution_count": null,
   "metadata": {},
   "outputs": [],
   "source": [
    "print(\"Light Gradient Boosting Regressor\")\n",
    "lgbm_params =  {\n",
    "    'task': 'train',\n",
    "    'boosting_type': 'gbdt',\n",
    "    'objective': 'regression',\n",
    "    'metric': 'rmse',\n",
    "    'max_depth': -1,\n",
    "    'num_leaves': 37,\n",
    "    'feature_fraction': 0.7,\n",
    "    'bagging_fraction': 0.8,\n",
    "    # 'bagging_freq': 5,\n",
    "    'learning_rate': 0.015,\n",
    "    'verbose': 0,\n",
    "    'n_jobs' : -1,\n",
    "    'reg_rambda' :0.5\n",
    "}  \n",
    "\n",
    "# LGBM Dataset Formatting \n",
    "lgtrain = lgb.Dataset(X_train, y_train,\n",
    "                feature_name=tfvocab,\n",
    "                categorical_feature = categorical)\n",
    "lgvalid = lgb.Dataset(X_valid, y_valid,\n",
    "                feature_name=tfvocab,\n",
    "                categorical_feature = categorical)\n",
    "\n",
    "# Go Go Go\n",
    "modelstart = time.time()\n",
    "lgb_clf = lgb.train(\n",
    "    lgbm_params,\n",
    "    lgtrain,\n",
    "    num_boost_round=20000,\n",
    "    valid_sets=[lgtrain, lgvalid],\n",
    "    valid_names=['train','valid'],\n",
    "    early_stopping_rounds=500,\n",
    "    verbose_eval=500\n",
    ")"
   ]
  },
  {
   "cell_type": "code",
   "execution_count": null,
   "metadata": {},
   "outputs": [],
   "source": [
    "# Feature Importance Plot\n",
    "f, ax = plt.subplots(figsize=[7,10])\n",
    "lgb.plot_importance(lgb_clf, max_num_features=50, ax=ax)\n",
    "plt.title(\"Light GBM Feature Importance\")"
   ]
  },
  {
   "cell_type": "code",
   "execution_count": null,
   "metadata": {},
   "outputs": [],
   "source": [
    "# print(\"Model Evaluation Stage\")\n",
    "# print('RMSE:', np.sqrt(metrics.mean_squared_error(y_valid, lgb_clf.predict(X_valid))))\n",
    "lgpred = lgb_clf.predict(testing)\n",
    "lgsub = pd.DataFrame(lgpred,columns=[\"deal_probability\"],index=testdex)\n",
    "lgsub['deal_probability'].clip(0.0, 1.0, inplace=True) # Between 0 and 1\n",
    "lgsub.to_csv(\"lgsub.csv\",index=True,header=True)\n",
    "print(\"Model Runtime: %0.2f Minutes\"%((time.time() - modelstart)/60))\n",
    "print(\"Notebook Runtime: %0.2f Minutes\"%((time.time() - notebookstart)/60))"
   ]
  },
  {
   "cell_type": "code",
   "execution_count": null,
   "metadata": {},
   "outputs": [],
   "source": [
    "! kaggle competitions submit -c avito-demand-prediction -f lgsub.csv -m \"Message\""
   ]
  },
  {
   "cell_type": "code",
   "execution_count": null,
   "metadata": {},
   "outputs": [],
   "source": [
    "gc.collect()"
   ]
  },
  {
   "cell_type": "markdown",
   "metadata": {},
   "source": [
    "# feature selection"
   ]
  },
  {
   "cell_type": "code",
   "execution_count": 36,
   "metadata": {},
   "outputs": [
    {
     "data": {
      "text/plain": [
       "((1353081, 1186566), (150343, 1186566), (1353081,), (150343,))"
      ]
     },
     "execution_count": 36,
     "metadata": {},
     "output_type": "execute_result"
    }
   ],
   "source": [
    "X_train.shape, X_valid.shape, y_train.shape, y_valid.shape"
   ]
  },
  {
   "cell_type": "code",
   "execution_count": 37,
   "metadata": {},
   "outputs": [],
   "source": [
    "model = lgb.LGBMRegressor().fit(X_train, y_train)"
   ]
  },
  {
   "cell_type": "code",
   "execution_count": 39,
   "metadata": {},
   "outputs": [],
   "source": [
    "y_temp = model.predict(X_valid)"
   ]
  },
  {
   "cell_type": "code",
   "execution_count": 40,
   "metadata": {},
   "outputs": [
    {
     "name": "stdout",
     "output_type": "stream",
     "text": [
      "RMSE: 0.2287721218248152\n"
     ]
    }
   ],
   "source": [
    "print('RMSE:', np.sqrt(metrics.mean_squared_error(y_valid, model.predict(X_valid))))"
   ]
  },
  {
   "cell_type": "code",
   "execution_count": 45,
   "metadata": {},
   "outputs": [
    {
     "data": {
      "text/plain": [
       "((1503424, 680), (1503424,), (508438, 680))"
      ]
     },
     "execution_count": 45,
     "metadata": {},
     "output_type": "execute_result"
    }
   ],
   "source": [
    "from sklearn.feature_selection import SelectFromModel\n",
    "\n",
    "X_temp = SelectFromModel(model, prefit=True, threshold=1).transform(X)\n",
    "testing_temp = SelectFromModel(model, prefit=True, threshold=1).transform(testing)\n",
    "X_temp.shape, y.shape, testing_temp.shape"
   ]
  },
  {
   "cell_type": "code",
   "execution_count": 46,
   "metadata": {},
   "outputs": [],
   "source": [
    "X_train, X_valid, y_train, y_valid = train_test_split(\n",
    "    X_temp, y, test_size=0.20, random_state=1)"
   ]
  },
  {
   "cell_type": "code",
   "execution_count": 50,
   "metadata": {},
   "outputs": [
    {
     "name": "stdout",
     "output_type": "stream",
     "text": [
      "Light Gradient Boosting Regressor\n",
      "Training until validation scores don't improve for 200 rounds.\n",
      "[200]\ttrain's rmse: 0.232007\tvalid's rmse: 0.232149\n",
      "[400]\ttrain's rmse: 0.228601\tvalid's rmse: 0.229074\n",
      "[600]\ttrain's rmse: 0.2269\tvalid's rmse: 0.227605\n",
      "[800]\ttrain's rmse: 0.225777\tvalid's rmse: 0.226669\n",
      "[1000]\ttrain's rmse: 0.224948\tvalid's rmse: 0.226021\n",
      "[1200]\ttrain's rmse: 0.224314\tvalid's rmse: 0.22558\n",
      "[1400]\ttrain's rmse: 0.223793\tvalid's rmse: 0.225265\n",
      "[1600]\ttrain's rmse: 0.223347\tvalid's rmse: 0.22503\n",
      "[1800]\ttrain's rmse: 0.222951\tvalid's rmse: 0.224844\n",
      "[2000]\ttrain's rmse: 0.222592\tvalid's rmse: 0.224689\n",
      "[2200]\ttrain's rmse: 0.222249\tvalid's rmse: 0.224557\n",
      "[2400]\ttrain's rmse: 0.22193\tvalid's rmse: 0.224443\n",
      "[2600]\ttrain's rmse: 0.221629\tvalid's rmse: 0.224344\n",
      "[2800]\ttrain's rmse: 0.221327\tvalid's rmse: 0.224247\n",
      "[3000]\ttrain's rmse: 0.221051\tvalid's rmse: 0.224174\n",
      "[3200]\ttrain's rmse: 0.220779\tvalid's rmse: 0.224103\n",
      "[3400]\ttrain's rmse: 0.220516\tvalid's rmse: 0.224029\n",
      "[3600]\ttrain's rmse: 0.220264\tvalid's rmse: 0.223962\n",
      "[3800]\ttrain's rmse: 0.220018\tvalid's rmse: 0.223904\n",
      "[4000]\ttrain's rmse: 0.219761\tvalid's rmse: 0.223835\n",
      "[4200]\ttrain's rmse: 0.21952\tvalid's rmse: 0.223775\n",
      "[4400]\ttrain's rmse: 0.219277\tvalid's rmse: 0.223719\n",
      "[4600]\ttrain's rmse: 0.219051\tvalid's rmse: 0.223676\n",
      "[4800]\ttrain's rmse: 0.218821\tvalid's rmse: 0.223632\n",
      "[5000]\ttrain's rmse: 0.218593\tvalid's rmse: 0.22359\n",
      "[5200]\ttrain's rmse: 0.21838\tvalid's rmse: 0.223554\n",
      "[5400]\ttrain's rmse: 0.218166\tvalid's rmse: 0.223513\n",
      "[5600]\ttrain's rmse: 0.217947\tvalid's rmse: 0.223474\n",
      "[5800]\ttrain's rmse: 0.217735\tvalid's rmse: 0.223439\n",
      "[6000]\ttrain's rmse: 0.217517\tvalid's rmse: 0.223397\n",
      "[6200]\ttrain's rmse: 0.217309\tvalid's rmse: 0.223361\n",
      "[6400]\ttrain's rmse: 0.217109\tvalid's rmse: 0.223335\n",
      "[6600]\ttrain's rmse: 0.216904\tvalid's rmse: 0.223299\n",
      "[6800]\ttrain's rmse: 0.216713\tvalid's rmse: 0.223272\n",
      "[7000]\ttrain's rmse: 0.21651\tvalid's rmse: 0.223233\n",
      "[7200]\ttrain's rmse: 0.216309\tvalid's rmse: 0.223199\n",
      "[7400]\ttrain's rmse: 0.216116\tvalid's rmse: 0.223171\n",
      "[7600]\ttrain's rmse: 0.215924\tvalid's rmse: 0.223143\n",
      "[7800]\ttrain's rmse: 0.215732\tvalid's rmse: 0.223118\n",
      "[8000]\ttrain's rmse: 0.215544\tvalid's rmse: 0.223096\n",
      "[8200]\ttrain's rmse: 0.215349\tvalid's rmse: 0.223068\n",
      "[8400]\ttrain's rmse: 0.215164\tvalid's rmse: 0.223042\n",
      "[8600]\ttrain's rmse: 0.214986\tvalid's rmse: 0.223022\n",
      "[8800]\ttrain's rmse: 0.214811\tvalid's rmse: 0.223006\n",
      "[9000]\ttrain's rmse: 0.214632\tvalid's rmse: 0.222986\n",
      "[9200]\ttrain's rmse: 0.214451\tvalid's rmse: 0.222969\n",
      "[9400]\ttrain's rmse: 0.214283\tvalid's rmse: 0.222957\n",
      "[9600]\ttrain's rmse: 0.214108\tvalid's rmse: 0.222941\n",
      "[9800]\ttrain's rmse: 0.213936\tvalid's rmse: 0.222928\n",
      "[10000]\ttrain's rmse: 0.213753\tvalid's rmse: 0.222906\n",
      "[10200]\ttrain's rmse: 0.21358\tvalid's rmse: 0.222888\n",
      "[10400]\ttrain's rmse: 0.213409\tvalid's rmse: 0.222874\n",
      "[10600]\ttrain's rmse: 0.213245\tvalid's rmse: 0.222862\n",
      "[10800]\ttrain's rmse: 0.213079\tvalid's rmse: 0.22285\n",
      "[11000]\ttrain's rmse: 0.212914\tvalid's rmse: 0.222839\n",
      "[11200]\ttrain's rmse: 0.212741\tvalid's rmse: 0.222825\n",
      "[11400]\ttrain's rmse: 0.212579\tvalid's rmse: 0.222816\n",
      "[11600]\ttrain's rmse: 0.212409\tvalid's rmse: 0.222799\n",
      "[11800]\ttrain's rmse: 0.212245\tvalid's rmse: 0.22279\n",
      "[12000]\ttrain's rmse: 0.212072\tvalid's rmse: 0.222777\n",
      "[12200]\ttrain's rmse: 0.211898\tvalid's rmse: 0.222761\n",
      "[12400]\ttrain's rmse: 0.211739\tvalid's rmse: 0.222752\n",
      "[12600]\ttrain's rmse: 0.21156\tvalid's rmse: 0.222739\n",
      "[12800]\ttrain's rmse: 0.211396\tvalid's rmse: 0.222728\n",
      "[13000]\ttrain's rmse: 0.211238\tvalid's rmse: 0.22272\n",
      "[13200]\ttrain's rmse: 0.211084\tvalid's rmse: 0.222708\n",
      "[13400]\ttrain's rmse: 0.210926\tvalid's rmse: 0.222697\n",
      "[13600]\ttrain's rmse: 0.210768\tvalid's rmse: 0.222688\n",
      "[13800]\ttrain's rmse: 0.21061\tvalid's rmse: 0.22268\n",
      "[14000]\ttrain's rmse: 0.210456\tvalid's rmse: 0.222668\n",
      "[14200]\ttrain's rmse: 0.210299\tvalid's rmse: 0.222658\n",
      "[14400]\ttrain's rmse: 0.210151\tvalid's rmse: 0.222655\n",
      "[14600]\ttrain's rmse: 0.210005\tvalid's rmse: 0.222644\n",
      "[14800]\ttrain's rmse: 0.209845\tvalid's rmse: 0.222634\n",
      "[15000]\ttrain's rmse: 0.209695\tvalid's rmse: 0.222628\n",
      "[15200]\ttrain's rmse: 0.209539\tvalid's rmse: 0.222616\n",
      "[15400]\ttrain's rmse: 0.20939\tvalid's rmse: 0.222609\n",
      "[15600]\ttrain's rmse: 0.209228\tvalid's rmse: 0.222598\n",
      "[15800]\ttrain's rmse: 0.20908\tvalid's rmse: 0.222593\n",
      "[16000]\ttrain's rmse: 0.20893\tvalid's rmse: 0.222586\n",
      "Did not meet early stopping. Best iteration is:\n",
      "[16000]\ttrain's rmse: 0.20893\tvalid's rmse: 0.222586\n"
     ]
    }
   ],
   "source": [
    "print(\"Light Gradient Boosting Regressor\")\n",
    "lgbm_params =  {\n",
    "    'task': 'train',\n",
    "    'boosting_type': 'gbdt',\n",
    "    'objective': 'regression',\n",
    "    'metric': 'rmse',\n",
    "    'max_depth': -1,\n",
    "    'num_leaves': 37,\n",
    "    'feature_fraction': 0.7,\n",
    "    'bagging_fraction': 0.8,\n",
    "    # 'bagging_freq': 5,\n",
    "    'learning_rate': 0.015,\n",
    "    'verbose': 0,\n",
    "    'n_jobs' : -1,\n",
    "    'reg_rambda' :0.5\n",
    "}  \n",
    "\n",
    "# LGBM Dataset Formatting \n",
    "lgtrain = lgb.Dataset(X_train, y_train)\n",
    "lgvalid = lgb.Dataset(X_valid, y_valid)\n",
    "\n",
    "# Go Go Go\n",
    "modelstart = time.time()\n",
    "lgb_clf = lgb.train(\n",
    "    lgbm_params,\n",
    "    lgtrain,\n",
    "    num_boost_round=16000,\n",
    "    valid_sets=[lgtrain, lgvalid],\n",
    "    valid_names=['train','valid'],\n",
    "    early_stopping_rounds=200,\n",
    "    verbose_eval=200\n",
    ")"
   ]
  },
  {
   "cell_type": "code",
   "execution_count": 51,
   "metadata": {},
   "outputs": [
    {
     "data": {
      "text/plain": [
       "Text(0.5,1,'Light GBM Feature Importance')"
      ]
     },
     "execution_count": 51,
     "metadata": {},
     "output_type": "execute_result"
    },
    {
     "data": {
      "image/png": "[encoded data removed]",
      "text/plain": [
       "<matplotlib.figure.Figure at 0x7f70f8a862e8>"
      ]
     },
     "metadata": {},
     "output_type": "display_data"
    }
   ],
   "source": [
    "# Feature Importance Plot\n",
    "f, ax = plt.subplots(figsize=[7,10])\n",
    "lgb.plot_importance(lgb_clf, max_num_features=50, ax=ax)\n",
    "plt.title(\"Light GBM Feature Importance\")"
   ]
  },
  {
   "cell_type": "code",
   "execution_count": 52,
   "metadata": {},
   "outputs": [
    {
     "name": "stdout",
     "output_type": "stream",
     "text": [
      "Model Evaluation Stage\n",
      "RMSE: 0.22258603486194367\n"
     ]
    },
    {
     "name": "stderr",
     "output_type": "stream",
     "text": [
      "/home/jk/anaconda3/lib/python3.6/site-packages/lightgbm/basic.py:447: UserWarning: Converting data to scipy sparse matrix.\n",
      "  warnings.warn('Converting data to scipy sparse matrix.')\n"
     ]
    },
    {
     "name": "stdout",
     "output_type": "stream",
     "text": [
      "Model Runtime: 28.20 Minutes\n",
      "Notebook Runtime: 249.97 Minutes\n"
     ]
    }
   ],
   "source": [
    "print(\"Model Evaluation Stage\")\n",
    "print('RMSE:', np.sqrt(metrics.mean_squared_error(y_valid, lgb_clf.predict(X_valid))))\n",
    "lgpred = lgb_clf.predict(testing)\n",
    "lgsub = pd.DataFrame(lgpred,columns=[\"deal_probability\"],index=testdex)\n",
    "lgsub['deal_probability'].clip(0.0, 1.0, inplace=True) # Between 0 and 1\n",
    "lgsub.to_csv(\"lgsub2.csv\",index=True,header=True)\n",
    "print(\"Model Runtime: %0.2f Minutes\"%((time.time() - modelstart)/60))\n",
    "print(\"Notebook Runtime: %0.2f Minutes\"%((time.time() - notebookstart)/60))"
   ]
  },
  {
   "cell_type": "code",
   "execution_count": 55,
   "metadata": {},
   "outputs": [
    {
     "name": "stdout",
     "output_type": "stream",
     "text": [
      "Warning: Your Kaggle API key is readable by other users on this system! To fix this, you can run 'chmod 600 /home/jk/.kaggle/kaggle.json'\n",
      "Warning: Looks like you're using an outdated API Version, please consider updating (server 1.3.9.1 / client 1.3.8)\n",
      "Successfully submitted to Avito Demand Prediction Challenge"
     ]
    }
   ],
   "source": [
    "! kaggle competitions submit -c avito-demand-prediction -f lgsub2.csv -m \"Message\""
   ]
  },
  {
   "cell_type": "code",
   "execution_count": null,
   "metadata": {},
   "outputs": [],
   "source": []
  },
  {
   "cell_type": "code",
   "execution_count": null,
   "metadata": {},
   "outputs": [],
   "source": []
  }
 ],
 "metadata": {
  "kernelspec": {
   "display_name": "Python 3",
   "language": "python",
   "name": "python3"
  },
  "language_info": {
   "codemirror_mode": {
    "name": "ipython",
    "version": 3
   },
   "file_extension": ".py",
   "mimetype": "text/x-python",
   "name": "python",
   "nbconvert_exporter": "python",
   "pygments_lexer": "ipython3",
   "version": "3.6.4"
  }
 },
 "nbformat": 4,
 "nbformat_minor": 2
}
